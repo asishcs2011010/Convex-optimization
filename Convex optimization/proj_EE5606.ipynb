{
 "cells": [
  {
   "cell_type": "code",
   "execution_count": null,
   "metadata": {},
   "outputs": [],
   "source": [
    "import cvxpy as cp\n",
    "import numpy as np"
   ]
  },
  {
   "cell_type": "code",
   "execution_count": null,
   "metadata": {},
   "outputs": [],
   "source": [
    "#variables defining, it is sample file\n",
    "\n",
    "N=10\n",
    "n=5\n",
    "E_comp = np.random.rand(N-1)\n",
    "E_fly = np.random.rand(N)\n",
    "E_ko = np.array   #it will be depend on E_comp and E_fly formula not said\n",
    "E_kl = np.array   #it will be depend on E_comp and E_fly formula not said\n",
    "E_kr = np.array   #it will be depend on E_comp and E_fly formula not said\n",
    "E_endk= 6\n",
    "#objective function\n",
    "\n",
    "obj = cp.Minimize(cp.sum([ E_comp[i] for i in range(2,N+1)])  + cp.sum([E_fly[i] for i in range(1,N+1)]))\n",
    "\n",
    "#Defining constraints\n",
    "\n",
    "constraints = [\n",
    "    cp.sum([E_kl[i] for i in range(1,n+1)]) + cp.sum([ E_ko[i] for i in range(1,n+1)]) <= cp.sum([E_kr[i] for i in range(1,n+1)]),\n",
    "    cp.sum([E_kr[i] for i in range(1,N+1)]) - cp.sum([E_kl[i] for i in range(1,N+1)]) - cp.sum([ E_ko[i] for i in range(1,N+1)]) >= E_endk,\n",
    "]\n",
    "\n",
    "\n",
    "# Formulating as LP problem and solving\n",
    "problem = cp.Problem(obj, constraints)\n",
    "problem.solve()\n",
    "\n",
    "#printing solutions\n",
    "\n",
    "print(\"Optimal value of sum of E_comp:\")\n",
    "sum1=cp.sum([ E_comp[i] for i in range(2,N+1)])\n",
    "print(sum1)\n",
    "print(\"Optimal value of sum of E_fly:\")\n",
    "sum2=cp.sum([E_fly[i] for i in range(1,N+1)])\n",
    "print(sum2)\n",
    "print(\"Min value of objective function is\",problem.value)"
   ]
  }
 ],
 "metadata": {
  "kernelspec": {
   "display_name": "Python 3",
   "language": "python",
   "name": "python3"
  },
  "language_info": {
   "codemirror_mode": {
    "name": "ipython",
    "version": 3
   },
   "file_extension": ".py",
   "mimetype": "text/x-python",
   "name": "python",
   "nbconvert_exporter": "python",
   "pygments_lexer": "ipython3",
   "version": "3.10.6"
  },
  "orig_nbformat": 4
 },
 "nbformat": 4,
 "nbformat_minor": 2
}
